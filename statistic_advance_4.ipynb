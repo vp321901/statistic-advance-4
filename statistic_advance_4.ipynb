{
  "nbformat": 4,
  "nbformat_minor": 0,
  "metadata": {
    "colab": {
      "provenance": []
    },
    "kernelspec": {
      "name": "python3",
      "display_name": "Python 3"
    },
    "language_info": {
      "name": "python"
    }
  },
  "cells": [
    {
      "cell_type": "code",
      "execution_count": 1,
      "metadata": {
        "colab": {
          "base_uri": "https://localhost:8080/",
          "height": 88
        },
        "id": "ph3RLt5mDY8a",
        "outputId": "5df6bd43-3d42-4df2-ef7c-13d282974810"
      },
      "outputs": [
        {
          "output_type": "execute_result",
          "data": {
            "text/plain": [
              "'Difference between a t-test and a z-test:\\n\\n------t-test:\\n\\nUsage: When the sample size is small (typically less than 30) and the population standard deviation is unknown.\\nExample Scenario: A researcher wants to determine if a new teaching method impacts student scores using a sample of 25 students. The population standard deviation is not known.\\n\\n--------z-test:\\n\\nUsage: When the sample size is large (typically 30 or more) or the population standard deviation is known.\\nExample Scenario: A factory knows the population standard deviation of product weights and wants to test if the mean weight of a large sample of 100 products differs from the target weight.'"
            ],
            "application/vnd.google.colaboratory.intrinsic+json": {
              "type": "string"
            }
          },
          "metadata": {},
          "execution_count": 1
        }
      ],
      "source": [
        "#Answer 1:\n",
        "\n",
        "\"\"\"Difference between a t-test and a z-test:\n",
        "\n",
        "------t-test:\n",
        "\n",
        "Usage: When the sample size is small (typically less than 30) and the population standard deviation is unknown.\n",
        "Example Scenario: A researcher wants to determine if a new teaching method impacts student scores using a sample of 25 students. The population standard deviation is not known.\n",
        "\n",
        "--------z-test:\n",
        "\n",
        "Usage: When the sample size is large (typically 30 or more) or the population standard deviation is known.\n",
        "Example Scenario: A factory knows the population standard deviation of product weights and wants to test if the mean weight of a large sample of 100 products differs from the target weight.\"\"\""
      ]
    },
    {
      "cell_type": "code",
      "source": [
        "#Answer 2:\n",
        "\n",
        "\"\"\"Difference between one-tailed and two-tailed tests:\n",
        "\n",
        "------One-tailed Test:\n",
        "\n",
        "Tests whether a parameter is greater than or less than a certain value.\n",
        "Example: Testing if a new drug increases recovery rate compared to an existing drug (only interested if it's better).\n",
        "\n",
        "\n",
        "------Two-tailed Test:\n",
        "\n",
        "Tests whether a parameter is significantly different from a certain value (it could be either higher or lower).\n",
        "Example: Testing if there is any difference in recovery rates between two drugs (interested in any difference).\n",
        "\"\"\""
      ],
      "metadata": {
        "colab": {
          "base_uri": "https://localhost:8080/",
          "height": 70
        },
        "id": "a9eEXkv2Dtjv",
        "outputId": "a1011f39-fb4f-4d89-ad56-a89293ba2521"
      },
      "execution_count": 3,
      "outputs": [
        {
          "output_type": "execute_result",
          "data": {
            "text/plain": [
              "\"Difference between one-tailed and two-tailed tests:\\n\\n------One-tailed Test:\\n\\nTests whether a parameter is greater than or less than a certain value.\\nExample: Testing if a new drug increases recovery rate compared to an existing drug (only interested if it's better).\\n\\n\\n------Two-tailed Test:\\n\\nTests whether a parameter is significantly different from a certain value (it could be either higher or lower).\\nExample: Testing if there is any difference in recovery rates between two drugs (interested in any difference).\\n\""
            ],
            "application/vnd.google.colaboratory.intrinsic+json": {
              "type": "string"
            }
          },
          "metadata": {},
          "execution_count": 3
        }
      ]
    },
    {
      "cell_type": "code",
      "source": [
        "#Answer 3:\n",
        "\n",
        "\"\"\"\"Type 1 and Type 2 Errors in Hypothesis Testing:\n",
        "\n",
        "------Type 1 Error (False Positive):\n",
        "\n",
        "Occurs when the null hypothesis is true, but we incorrectly reject it.\n",
        "Example: A medical test indicates a patient has a disease when they actually do not.\n",
        "\n",
        "-----Type 2 Error (False Negative):\n",
        "\n",
        "Occurs when the null hypothesis is false, but we fail to reject it.\n",
        "Example: A medical test fails to detect a disease that the patient actually has.\"\"\""
      ],
      "metadata": {
        "colab": {
          "base_uri": "https://localhost:8080/",
          "height": 70
        },
        "id": "OvWaWGw1D4ZA",
        "outputId": "80c742b2-9f9d-4f28-88e5-11562de1d889"
      },
      "execution_count": 4,
      "outputs": [
        {
          "output_type": "execute_result",
          "data": {
            "text/plain": [
              "'\"Type 1 and Type 2 Errors in Hypothesis Testing:\\n\\n------Type 1 Error (False Positive):\\n\\nOccurs when the null hypothesis is true, but we incorrectly reject it.\\nExample: A medical test indicates a patient has a disease when they actually do not.\\n\\n-----Type 2 Error (False Negative):\\n\\nOccurs when the null hypothesis is false, but we fail to reject it.\\nExample: A medical test fails to detect a disease that the patient actually has.'"
            ],
            "application/vnd.google.colaboratory.intrinsic+json": {
              "type": "string"
            }
          },
          "metadata": {},
          "execution_count": 4
        }
      ]
    },
    {
      "cell_type": "code",
      "source": [
        "#answer:-4\n",
        "\"\"\"\n",
        "Bayes's Theorem: It is a way to update the probability of an event happening based on new evidence.\n",
        "Example: If a medical test is 95% accurate, and 1% of the population has a disease, Bayes's theorem helps calculate the probability that someone who tests positive actually has the disease.\"\"\""
      ],
      "metadata": {
        "colab": {
          "base_uri": "https://localhost:8080/",
          "height": 53
        },
        "id": "ng-rYmafEiAY",
        "outputId": "4cef3589-94a7-4198-857d-18776fd617da"
      },
      "execution_count": 7,
      "outputs": [
        {
          "output_type": "execute_result",
          "data": {
            "text/plain": [
              "\"\\nBayes's Theorem: It is a way to update the probability of an event happening based on new evidence.\\nExample: If a medical test is 95% accurate, and 1% of the population has a disease, Bayes's theorem helps calculate the probability that someone who tests positive actually has the disease.\""
            ],
            "application/vnd.google.colaboratory.intrinsic+json": {
              "type": "string"
            }
          },
          "metadata": {},
          "execution_count": 7
        }
      ]
    },
    {
      "cell_type": "code",
      "source": [
        "#answer:-5\n",
        "\n",
        "\"\"\"\n",
        "-----Confidence Interval (CI): A range of values, derived from a sample, that is likely to contain the population parameter with a certain level of confidence.\n",
        "\n",
        "Example: If you have a sample mean of 50 and a 95% confidence interval of (45, 55), you are 95% confident that the population mean lies within that range.\"\"\""
      ],
      "metadata": {
        "colab": {
          "base_uri": "https://localhost:8080/",
          "height": 53
        },
        "id": "_ugzTcY1EMFD",
        "outputId": "4134c4ea-43bc-4914-f788-c6680c84e4a5"
      },
      "execution_count": 6,
      "outputs": [
        {
          "output_type": "execute_result",
          "data": {
            "text/plain": [
              "'\\n-----Confidence Interval (CI): A range of values, derived from a sample, that is likely to contain the population parameter with a certain level of confidence.\\n\\nExample: If you have a sample mean of 50 and a 95% confidence interval of (45, 55), you are 95% confident that the population mean lies within that range.'"
            ],
            "application/vnd.google.colaboratory.intrinsic+json": {
              "type": "string"
            }
          },
          "metadata": {},
          "execution_count": 6
        }
      ]
    },
    {
      "cell_type": "code",
      "source": [
        "#answer:-6\n",
        "\"\"\"Problem: A disease affects 1% of the population, and the test for the disease is 90% accurate (both for positives and negatives). What is the probability that someone who tests positive actually has the disease?\"\"\"\n",
        "\n",
        "\n",
        "     #### solution of problem\n",
        "     # Given values\n",
        "P_disease = 0.01  # Prior probability of disease\n",
        "P_no_disease = 1 - P_disease\n",
        "P_positive_given_disease = 0.90\n",
        "P_positive_given_no_disease = 0.10\n",
        "\n",
        "# Bayes' theorem calculation\n",
        "P_positive = (P_positive_given_disease * P_disease) + (P_positive_given_no_disease * P_no_disease)\n",
        "P_disease_given_positive = (P_positive_given_disease * P_disease) / P_positive\n",
        "\n",
        "P_disease_given_positive\n"
      ],
      "metadata": {
        "colab": {
          "base_uri": "https://localhost:8080/"
        },
        "id": "b2KRov8GE3Ti",
        "outputId": "6fe118a4-87bb-454d-c17c-6b0958106d6c"
      },
      "execution_count": 8,
      "outputs": [
        {
          "output_type": "execute_result",
          "data": {
            "text/plain": [
              "0.08333333333333333"
            ]
          },
          "metadata": {},
          "execution_count": 8
        }
      ]
    },
    {
      "cell_type": "code",
      "source": [
        "#answer:-7\n",
        "import scipy.stats as stats\n",
        "\n",
        "# Given values\n",
        "mean = 50\n",
        "std_dev = 5\n",
        "n = 100  # Assuming sample size is 100\n",
        "confidence_level = 0.95\n",
        "\n",
        "# Calculate confidence interval\n",
        "z_score = stats.norm.ppf((1 + confidence_level) / 2)\n",
        "margin_of_error = z_score * (std_dev / (n ** 0.5))\n",
        "confidence_interval = (mean - margin_of_error, mean + margin_of_error)\n",
        "\n",
        "confidence_interval\n"
      ],
      "metadata": {
        "colab": {
          "base_uri": "https://localhost:8080/"
        },
        "id": "Haq3Bq-2FRbZ",
        "outputId": "a1c62c11-1983-4044-e873-4a19b1039263"
      },
      "execution_count": 9,
      "outputs": [
        {
          "output_type": "execute_result",
          "data": {
            "text/plain": [
              "(49.02001800772997, 50.97998199227003)"
            ]
          },
          "metadata": {},
          "execution_count": 9
        }
      ]
    },
    {
      "cell_type": "code",
      "source": [
        "#answer:-8\n",
        "\n",
        "\"\"\"\n",
        "----Margin of Error: The amount by which the observed sample statistic is expected to differ from the true population parameter. It is half the width of the confidence interval.\n",
        "---Effect of Sample Size: As the sample size increases, the margin of error decreases because larger samples provide more accurate estimates.\n",
        "Example: In a poll with a sample size of 100, the margin of error may be ±5%. With a sample size of 1000, it may reduce to ±2%.\"\"\""
      ],
      "metadata": {
        "colab": {
          "base_uri": "https://localhost:8080/",
          "height": 70
        },
        "id": "5i9MOn9XFYs_",
        "outputId": "664b26ac-6f04-4874-f496-4e52e5737fad"
      },
      "execution_count": 10,
      "outputs": [
        {
          "output_type": "execute_result",
          "data": {
            "text/plain": [
              "'\\n----Margin of Error: The amount by which the observed sample statistic is expected to differ from the true population parameter. It is half the width of the confidence interval.\\n---Effect of Sample Size: As the sample size increases, the margin of error decreases because larger samples provide more accurate estimates.\\nExample: In a poll with a sample size of 100, the margin of error may be ±5%. With a sample size of 1000, it may reduce to ±2%.'"
            ],
            "application/vnd.google.colaboratory.intrinsic+json": {
              "type": "string"
            }
          },
          "metadata": {},
          "execution_count": 10
        }
      ]
    },
    {
      "cell_type": "code",
      "source": [
        "#answer:-9\n",
        "# Given values\n",
        "data_point = 75\n",
        "mean = 70\n",
        "std_dev = 5\n",
        "\n",
        "# Z-score calculation\n",
        "z_score = (data_point - mean) / std_dev\n",
        "z_score\n"
      ],
      "metadata": {
        "colab": {
          "base_uri": "https://localhost:8080/"
        },
        "id": "_mpHQwEyFoYf",
        "outputId": "3db1b29a-491b-4a08-90ba-21cdc709cad9"
      },
      "execution_count": 11,
      "outputs": [
        {
          "output_type": "execute_result",
          "data": {
            "text/plain": [
              "1.0"
            ]
          },
          "metadata": {},
          "execution_count": 11
        }
      ]
    },
    {
      "cell_type": "code",
      "source": [
        "# answer:-10\n",
        "import scipy.stats as stats\n",
        "\n",
        "# Given values\n",
        "sample_mean = 6\n",
        "population_mean = 0  # Assuming no weight loss without the drug\n",
        "std_dev = 2.5\n",
        "n = 50\n",
        "confidence_level = 0.95\n",
        "\n",
        "# T-test calculation\n",
        "t_statistic = (sample_mean - population_mean) / (std_dev / (n ** 0.5))\n",
        "p_value = stats.t.sf(t_statistic, df=n-1) * 2  # Two-tailed test\n",
        "\n",
        "t_statistic, p_value\n"
      ],
      "metadata": {
        "colab": {
          "base_uri": "https://localhost:8080/"
        },
        "id": "8g9qMKZ-Fsqx",
        "outputId": "7d93a417-545f-4405-b66c-38688a86d45e"
      },
      "execution_count": 12,
      "outputs": [
        {
          "output_type": "execute_result",
          "data": {
            "text/plain": [
              "(16.970562748477143, 3.7168840835270203e-22)"
            ]
          },
          "metadata": {},
          "execution_count": 12
        }
      ]
    },
    {
      "cell_type": "code",
      "source": [
        "#answer:-11\n",
        "import math\n",
        "\n",
        "# Given values\n",
        "p_hat = 0.65\n",
        "n = 500\n",
        "confidence_level = 0.95\n",
        "\n",
        "# Z-score for 95% confidence\n",
        "z_score = stats.norm.ppf((1 + confidence_level) / 2)\n",
        "\n",
        "# Standard error\n",
        "std_error = math.sqrt((p_hat * (1 - p_hat)) / n)\n",
        "\n",
        "# Confidence interval\n",
        "margin_of_error = z_score * std_error\n",
        "confidence_interval = (p_hat - margin_of_error, p_hat + margin_of_error)\n",
        "\n",
        "confidence_interval\n"
      ],
      "metadata": {
        "colab": {
          "base_uri": "https://localhost:8080/"
        },
        "id": "gyiFf_h-Fxuw",
        "outputId": "8919df2e-8ebf-40ce-9099-d0858e83f5d2"
      },
      "execution_count": 13,
      "outputs": [
        {
          "output_type": "execute_result",
          "data": {
            "text/plain": [
              "(0.6081925393809212, 0.6918074606190788)"
            ]
          },
          "metadata": {},
          "execution_count": 13
        }
      ]
    },
    {
      "cell_type": "code",
      "source": [
        "#answer:-12\n",
        "import scipy.stats as stats\n",
        "\n",
        "# Given values\n",
        "mean_a = 85\n",
        "std_a = 6\n",
        "n_a = 30\n",
        "mean_b = 82\n",
        "std_b = 5\n",
        "n_b = 40\n",
        "alpha = 0.01\n",
        "\n",
        "# T-test calculation (two sample, assuming equal variance)\n",
        "t_statistic, p_value = stats.ttest_ind_from_stats(mean1=mean_a, std1=std_a, nobs1=n_a,\n",
        "                                                  mean2=mean_b, std2=std_b, nobs2=n_b)\n",
        "\n",
        "t_statistic, p_value\n"
      ],
      "metadata": {
        "colab": {
          "base_uri": "https://localhost:8080/"
        },
        "id": "lKed8gKQF4nt",
        "outputId": "ff08382a-64fc-41ee-beb0-e5b767e8aaa4"
      },
      "execution_count": 14,
      "outputs": [
        {
          "output_type": "execute_result",
          "data": {
            "text/plain": [
              "(2.2795501684531065, 0.025776988981913215)"
            ]
          },
          "metadata": {},
          "execution_count": 14
        }
      ]
    },
    {
      "cell_type": "code",
      "source": [
        "#answer:-13\n",
        "# Given values\n",
        "population_mean = 60\n",
        "sample_mean = 65\n",
        "std_dev = 8\n",
        "n = 50\n",
        "confidence_level = 0.90\n",
        "\n",
        "# Z-score for 90% confidence\n",
        "z_score = stats.norm.ppf((1 + confidence_level) / 2)\n",
        "\n",
        "# Confidence interval calculation\n",
        "margin_of_error = z_score * (std_dev / (n ** 0.5))\n",
        "confidence_interval = (sample_mean - margin_of_error, sample_mean + margin_of_error)\n",
        "\n",
        "confidence_interval\n"
      ],
      "metadata": {
        "colab": {
          "base_uri": "https://localhost:8080/"
        },
        "id": "aNVp7jFhF-ns",
        "outputId": "182e2c89-767a-4d08-c0c9-7e1173b8a5a8"
      },
      "execution_count": 15,
      "outputs": [
        {
          "output_type": "execute_result",
          "data": {
            "text/plain": [
              "(63.13906055411732, 66.86093944588268)"
            ]
          },
          "metadata": {},
          "execution_count": 15
        }
      ]
    },
    {
      "cell_type": "code",
      "source": [
        "#answer:-14\n",
        "import numpy as np\n",
        "import scipy.stats as stats\n",
        "import matplotlib.pyplot as plt\n",
        "\n",
        "# Given values\n",
        "sample_mean = 0.25  # Mean reaction time with caffeine\n",
        "population_mean = 0.30  # Assumed population mean reaction time without caffeine\n",
        "std_dev = 0.05  # Standard deviation of the sample\n",
        "n = 30  # Sample size\n",
        "confidence_level = 0.90\n",
        "\n",
        "# Conducting the t-test\n",
        "t_statistic = (sample_mean - population_mean) / (std_dev / (n ** 0.5))\n",
        "p_value = stats.t.sf(abs(t_statistic), df=n-1) * 2  # Two-tailed test\n",
        "\n",
        "# Result of the hypothesis test\n",
        "result = \"Reject the null hypothesis\" if p_value < (1 - confidence_level) else \"Fail to reject the null hypothesis\"\n",
        "\n",
        "# Generating the t-distribution for visualization\n",
        "x = np.linspace(-5, 5, 1000)\n",
        "y = stats.t.pdf(x, df=n-1)\n",
        "\n",
        "# Plotting the t-distribution\n",
        "plt.figure(figsize=(10, 5))\n",
        "plt.plot(x, y, label='t-distribution', color='blue')\n",
        "plt.axvline(t_statistic, color='red', linestyle='dashed', linewidth=2, label=f't-statistic = {t_statistic:.2f}')\n",
        "plt.title('T-Distribution with t-statistic')\n",
        "plt.xlabel('t-value')\n",
        "plt.ylabel('Probability Density')\n",
        "plt.legend()\n",
        "plt.grid()\n",
        "plt.show()\n",
        "\n",
        "# Output results\n",
        "print(f\"T-statistic: {t_statistic:.2f}\")\n",
        "print(f\"P-value: {p_value:.6f}\")\n",
        "print(f\"Hypothesis Test Result: {result}\")\n"
      ],
      "metadata": {
        "colab": {
          "base_uri": "https://localhost:8080/",
          "height": 539
        },
        "id": "ZGaiLeTtGO1b",
        "outputId": "5db7566d-b581-48ba-e89f-7d4e930076e7"
      },
      "execution_count": 16,
      "outputs": [
        {
          "output_type": "display_data",
          "data": {
            "text/plain": [
              "<Figure size 1000x500 with 1 Axes>"
            ],
            "image/png": "[encoded data removed]"
          },
          "metadata": {}
        },
        {
          "output_type": "stream",
          "name": "stdout",
          "text": [
            "T-statistic: -5.48\n",
            "P-value: 0.000007\n",
            "Hypothesis Test Result: Reject the null hypothesis\n"
          ]
        }
      ]
    },
    {
      "cell_type": "code",
      "source": [],
      "metadata": {
        "id": "mfNc151GG5NT"
      },
      "execution_count": null,
      "outputs": []
    }
  ]
}